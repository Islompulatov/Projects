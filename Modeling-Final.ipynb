{
 "cells": [
  {
   "cell_type": "markdown",
   "id": "568934ba",
   "metadata": {},
   "source": [
    "# 1. Importing Tools"
   ]
  },
  {
   "cell_type": "code",
   "execution_count": 1,
   "id": "09a69cb2",
   "metadata": {},
   "outputs": [],
   "source": [
    "# Importing Standard EDA Libraries\n",
    "import pandas as pd\n",
    "from pandas import set_option\n",
    "import numpy as np\n",
    "\n",
    "# Importing Statistical Analysis Libraries\n",
    "from scipy import stats\n",
    "\n",
    "# Importing Data Visualization Libraries\n",
    "import matplotlib.pyplot as plt\n",
    "# plots should appear in notebook\n",
    "%matplotlib inline\n",
    "import seaborn as sns\n",
    "\n",
    "# Visualization Themes & Styles\n",
    "plt.style.use('ggplot')\n",
    "sns.set_theme(style = \"darkgrid\", palette = \"pastel\")\n",
    "\n",
    "# Classification Models\n",
    "from sklearn.linear_model import LogisticRegression\n",
    "from sklearn.neighbors import KNeighborsClassifier\n",
    "from sklearn.tree import DecisionTreeClassifier\n",
    "from sklearn.discriminant_analysis import LinearDiscriminantAnalysis\n",
    "from sklearn.naive_bayes import GaussianNB\n",
    "from sklearn.svm import SVC\n",
    "from sklearn.ensemble import AdaBoostClassifier\n",
    "from sklearn.ensemble import GradientBoostingClassifier\n",
    "from sklearn.ensemble import RandomForestClassifier\n",
    "\n",
    "# Classification Model Evaluators & Feature Engineering Tools\n",
    "from sklearn.model_selection import train_test_split, cross_val_score\n",
    "from sklearn.model_selection import RandomizedSearchCV, GridSearchCV\n",
    "from sklearn.metrics import confusion_matrix, classification_report\n",
    "from sklearn.metrics import precision_score, recall_score, f1_score\n",
    "from sklearn.metrics import plot_roc_curve\n",
    "from sklearn.preprocessing import LabelEncoder\n",
    "\n",
    "# Ignore warnings\n",
    "import warnings\n",
    "warnings.filterwarnings(\"ignore\")"
   ]
  },
  {
   "cell_type": "markdown",
   "id": "18165f96",
   "metadata": {},
   "source": [
    "# 2. Importing Data"
   ]
  },
  {
   "cell_type": "code",
   "execution_count": 2,
   "id": "df137b76",
   "metadata": {},
   "outputs": [],
   "source": [
    "# Import Cleaned Bank Marketing Data\n",
    "df = pd.read_csv(\"bank_marketing_preprocessed_data.csv\")"
   ]
  },
  {
   "cell_type": "code",
   "execution_count": 3,
   "id": "7227861b",
   "metadata": {},
   "outputs": [
    {
     "data": {
      "text/html": [
       "<div>\n",
       "<style scoped>\n",
       "    .dataframe tbody tr th:only-of-type {\n",
       "        vertical-align: middle;\n",
       "    }\n",
       "\n",
       "    .dataframe tbody tr th {\n",
       "        vertical-align: top;\n",
       "    }\n",
       "\n",
       "    .dataframe thead th {\n",
       "        text-align: right;\n",
       "    }\n",
       "</style>\n",
       "<table border=\"1\" class=\"dataframe\">\n",
       "  <thead>\n",
       "    <tr style=\"text-align: right;\">\n",
       "      <th></th>\n",
       "      <th>Unnamed: 0</th>\n",
       "      <th>age</th>\n",
       "      <th>balance</th>\n",
       "      <th>day</th>\n",
       "      <th>duration</th>\n",
       "      <th>campaign</th>\n",
       "      <th>pdays</th>\n",
       "      <th>previous</th>\n",
       "      <th>job</th>\n",
       "      <th>marital</th>\n",
       "      <th>education</th>\n",
       "      <th>default</th>\n",
       "      <th>housing</th>\n",
       "      <th>contact</th>\n",
       "      <th>month</th>\n",
       "      <th>poutcome</th>\n",
       "      <th>loan</th>\n",
       "      <th>y</th>\n",
       "    </tr>\n",
       "  </thead>\n",
       "  <tbody>\n",
       "    <tr>\n",
       "      <th>0</th>\n",
       "      <td>0</td>\n",
       "      <td>58</td>\n",
       "      <td>2143</td>\n",
       "      <td>5</td>\n",
       "      <td>261</td>\n",
       "      <td>1</td>\n",
       "      <td>-1</td>\n",
       "      <td>0</td>\n",
       "      <td>4</td>\n",
       "      <td>1</td>\n",
       "      <td>2</td>\n",
       "      <td>0</td>\n",
       "      <td>1</td>\n",
       "      <td>2</td>\n",
       "      <td>8</td>\n",
       "      <td>3</td>\n",
       "      <td>0</td>\n",
       "      <td>0</td>\n",
       "    </tr>\n",
       "    <tr>\n",
       "      <th>1</th>\n",
       "      <td>1</td>\n",
       "      <td>44</td>\n",
       "      <td>29</td>\n",
       "      <td>5</td>\n",
       "      <td>151</td>\n",
       "      <td>1</td>\n",
       "      <td>-1</td>\n",
       "      <td>0</td>\n",
       "      <td>9</td>\n",
       "      <td>2</td>\n",
       "      <td>1</td>\n",
       "      <td>0</td>\n",
       "      <td>1</td>\n",
       "      <td>2</td>\n",
       "      <td>8</td>\n",
       "      <td>3</td>\n",
       "      <td>0</td>\n",
       "      <td>0</td>\n",
       "    </tr>\n",
       "    <tr>\n",
       "      <th>2</th>\n",
       "      <td>2</td>\n",
       "      <td>33</td>\n",
       "      <td>2</td>\n",
       "      <td>5</td>\n",
       "      <td>76</td>\n",
       "      <td>1</td>\n",
       "      <td>-1</td>\n",
       "      <td>0</td>\n",
       "      <td>2</td>\n",
       "      <td>1</td>\n",
       "      <td>1</td>\n",
       "      <td>0</td>\n",
       "      <td>1</td>\n",
       "      <td>2</td>\n",
       "      <td>8</td>\n",
       "      <td>3</td>\n",
       "      <td>1</td>\n",
       "      <td>0</td>\n",
       "    </tr>\n",
       "    <tr>\n",
       "      <th>3</th>\n",
       "      <td>3</td>\n",
       "      <td>47</td>\n",
       "      <td>1506</td>\n",
       "      <td>5</td>\n",
       "      <td>92</td>\n",
       "      <td>1</td>\n",
       "      <td>-1</td>\n",
       "      <td>0</td>\n",
       "      <td>1</td>\n",
       "      <td>1</td>\n",
       "      <td>3</td>\n",
       "      <td>0</td>\n",
       "      <td>1</td>\n",
       "      <td>2</td>\n",
       "      <td>8</td>\n",
       "      <td>3</td>\n",
       "      <td>0</td>\n",
       "      <td>0</td>\n",
       "    </tr>\n",
       "    <tr>\n",
       "      <th>4</th>\n",
       "      <td>4</td>\n",
       "      <td>33</td>\n",
       "      <td>1</td>\n",
       "      <td>5</td>\n",
       "      <td>198</td>\n",
       "      <td>1</td>\n",
       "      <td>-1</td>\n",
       "      <td>0</td>\n",
       "      <td>11</td>\n",
       "      <td>2</td>\n",
       "      <td>3</td>\n",
       "      <td>0</td>\n",
       "      <td>0</td>\n",
       "      <td>2</td>\n",
       "      <td>8</td>\n",
       "      <td>3</td>\n",
       "      <td>0</td>\n",
       "      <td>0</td>\n",
       "    </tr>\n",
       "    <tr>\n",
       "      <th>5</th>\n",
       "      <td>5</td>\n",
       "      <td>35</td>\n",
       "      <td>231</td>\n",
       "      <td>5</td>\n",
       "      <td>139</td>\n",
       "      <td>1</td>\n",
       "      <td>-1</td>\n",
       "      <td>0</td>\n",
       "      <td>4</td>\n",
       "      <td>1</td>\n",
       "      <td>2</td>\n",
       "      <td>0</td>\n",
       "      <td>1</td>\n",
       "      <td>2</td>\n",
       "      <td>8</td>\n",
       "      <td>3</td>\n",
       "      <td>0</td>\n",
       "      <td>0</td>\n",
       "    </tr>\n",
       "    <tr>\n",
       "      <th>6</th>\n",
       "      <td>6</td>\n",
       "      <td>28</td>\n",
       "      <td>447</td>\n",
       "      <td>5</td>\n",
       "      <td>217</td>\n",
       "      <td>1</td>\n",
       "      <td>-1</td>\n",
       "      <td>0</td>\n",
       "      <td>4</td>\n",
       "      <td>2</td>\n",
       "      <td>2</td>\n",
       "      <td>0</td>\n",
       "      <td>1</td>\n",
       "      <td>2</td>\n",
       "      <td>8</td>\n",
       "      <td>3</td>\n",
       "      <td>1</td>\n",
       "      <td>0</td>\n",
       "    </tr>\n",
       "    <tr>\n",
       "      <th>7</th>\n",
       "      <td>7</td>\n",
       "      <td>42</td>\n",
       "      <td>2</td>\n",
       "      <td>5</td>\n",
       "      <td>380</td>\n",
       "      <td>1</td>\n",
       "      <td>-1</td>\n",
       "      <td>0</td>\n",
       "      <td>2</td>\n",
       "      <td>0</td>\n",
       "      <td>2</td>\n",
       "      <td>1</td>\n",
       "      <td>1</td>\n",
       "      <td>2</td>\n",
       "      <td>8</td>\n",
       "      <td>3</td>\n",
       "      <td>0</td>\n",
       "      <td>0</td>\n",
       "    </tr>\n",
       "    <tr>\n",
       "      <th>8</th>\n",
       "      <td>8</td>\n",
       "      <td>58</td>\n",
       "      <td>121</td>\n",
       "      <td>5</td>\n",
       "      <td>50</td>\n",
       "      <td>1</td>\n",
       "      <td>-1</td>\n",
       "      <td>0</td>\n",
       "      <td>5</td>\n",
       "      <td>1</td>\n",
       "      <td>0</td>\n",
       "      <td>0</td>\n",
       "      <td>1</td>\n",
       "      <td>2</td>\n",
       "      <td>8</td>\n",
       "      <td>3</td>\n",
       "      <td>0</td>\n",
       "      <td>0</td>\n",
       "    </tr>\n",
       "    <tr>\n",
       "      <th>9</th>\n",
       "      <td>9</td>\n",
       "      <td>43</td>\n",
       "      <td>593</td>\n",
       "      <td>5</td>\n",
       "      <td>55</td>\n",
       "      <td>1</td>\n",
       "      <td>-1</td>\n",
       "      <td>0</td>\n",
       "      <td>9</td>\n",
       "      <td>2</td>\n",
       "      <td>1</td>\n",
       "      <td>0</td>\n",
       "      <td>1</td>\n",
       "      <td>2</td>\n",
       "      <td>8</td>\n",
       "      <td>3</td>\n",
       "      <td>0</td>\n",
       "      <td>0</td>\n",
       "    </tr>\n",
       "  </tbody>\n",
       "</table>\n",
       "</div>"
      ],
      "text/plain": [
       "   Unnamed: 0  age  balance  day  duration  campaign  pdays  previous  job  \\\n",
       "0           0   58     2143    5       261         1     -1         0    4   \n",
       "1           1   44       29    5       151         1     -1         0    9   \n",
       "2           2   33        2    5        76         1     -1         0    2   \n",
       "3           3   47     1506    5        92         1     -1         0    1   \n",
       "4           4   33        1    5       198         1     -1         0   11   \n",
       "5           5   35      231    5       139         1     -1         0    4   \n",
       "6           6   28      447    5       217         1     -1         0    4   \n",
       "7           7   42        2    5       380         1     -1         0    2   \n",
       "8           8   58      121    5        50         1     -1         0    5   \n",
       "9           9   43      593    5        55         1     -1         0    9   \n",
       "\n",
       "   marital  education  default  housing  contact  month  poutcome  loan  y  \n",
       "0        1          2        0        1        2      8         3     0  0  \n",
       "1        2          1        0        1        2      8         3     0  0  \n",
       "2        1          1        0        1        2      8         3     1  0  \n",
       "3        1          3        0        1        2      8         3     0  0  \n",
       "4        2          3        0        0        2      8         3     0  0  \n",
       "5        1          2        0        1        2      8         3     0  0  \n",
       "6        2          2        0        1        2      8         3     1  0  \n",
       "7        0          2        1        1        2      8         3     0  0  \n",
       "8        1          0        0        1        2      8         3     0  0  \n",
       "9        2          1        0        1        2      8         3     0  0  "
      ]
     },
     "execution_count": 3,
     "metadata": {},
     "output_type": "execute_result"
    }
   ],
   "source": [
    "# View Dataframe to Ensure One-Hot Encoded Features are Retained\n",
    "df.head(10)"
   ]
  },
  {
   "cell_type": "markdown",
   "id": "77d59730",
   "metadata": {},
   "source": [
    "# 3. Data Preprocessing "
   ]
  },
  {
   "cell_type": "markdown",
   "id": "fcc18714",
   "metadata": {},
   "source": [
    "### 3.1 Defining The Features and Target"
   ]
  },
  {
   "cell_type": "code",
   "execution_count": 5,
   "id": "0301912f",
   "metadata": {},
   "outputs": [
    {
     "data": {
      "text/html": [
       "<div>\n",
       "<style scoped>\n",
       "    .dataframe tbody tr th:only-of-type {\n",
       "        vertical-align: middle;\n",
       "    }\n",
       "\n",
       "    .dataframe tbody tr th {\n",
       "        vertical-align: top;\n",
       "    }\n",
       "\n",
       "    .dataframe thead th {\n",
       "        text-align: right;\n",
       "    }\n",
       "</style>\n",
       "<table border=\"1\" class=\"dataframe\">\n",
       "  <thead>\n",
       "    <tr style=\"text-align: right;\">\n",
       "      <th></th>\n",
       "      <th>age</th>\n",
       "      <th>balance</th>\n",
       "      <th>day</th>\n",
       "      <th>duration</th>\n",
       "      <th>campaign</th>\n",
       "      <th>pdays</th>\n",
       "      <th>previous</th>\n",
       "      <th>job</th>\n",
       "      <th>marital</th>\n",
       "      <th>education</th>\n",
       "      <th>default</th>\n",
       "      <th>housing</th>\n",
       "      <th>contact</th>\n",
       "      <th>month</th>\n",
       "      <th>poutcome</th>\n",
       "      <th>loan</th>\n",
       "      <th>y</th>\n",
       "    </tr>\n",
       "  </thead>\n",
       "  <tbody>\n",
       "    <tr>\n",
       "      <th>0</th>\n",
       "      <td>58</td>\n",
       "      <td>2143</td>\n",
       "      <td>5</td>\n",
       "      <td>261</td>\n",
       "      <td>1</td>\n",
       "      <td>-1</td>\n",
       "      <td>0</td>\n",
       "      <td>4</td>\n",
       "      <td>1</td>\n",
       "      <td>2</td>\n",
       "      <td>0</td>\n",
       "      <td>1</td>\n",
       "      <td>2</td>\n",
       "      <td>8</td>\n",
       "      <td>3</td>\n",
       "      <td>0</td>\n",
       "      <td>0</td>\n",
       "    </tr>\n",
       "    <tr>\n",
       "      <th>1</th>\n",
       "      <td>44</td>\n",
       "      <td>29</td>\n",
       "      <td>5</td>\n",
       "      <td>151</td>\n",
       "      <td>1</td>\n",
       "      <td>-1</td>\n",
       "      <td>0</td>\n",
       "      <td>9</td>\n",
       "      <td>2</td>\n",
       "      <td>1</td>\n",
       "      <td>0</td>\n",
       "      <td>1</td>\n",
       "      <td>2</td>\n",
       "      <td>8</td>\n",
       "      <td>3</td>\n",
       "      <td>0</td>\n",
       "      <td>0</td>\n",
       "    </tr>\n",
       "    <tr>\n",
       "      <th>2</th>\n",
       "      <td>33</td>\n",
       "      <td>2</td>\n",
       "      <td>5</td>\n",
       "      <td>76</td>\n",
       "      <td>1</td>\n",
       "      <td>-1</td>\n",
       "      <td>0</td>\n",
       "      <td>2</td>\n",
       "      <td>1</td>\n",
       "      <td>1</td>\n",
       "      <td>0</td>\n",
       "      <td>1</td>\n",
       "      <td>2</td>\n",
       "      <td>8</td>\n",
       "      <td>3</td>\n",
       "      <td>1</td>\n",
       "      <td>0</td>\n",
       "    </tr>\n",
       "    <tr>\n",
       "      <th>3</th>\n",
       "      <td>47</td>\n",
       "      <td>1506</td>\n",
       "      <td>5</td>\n",
       "      <td>92</td>\n",
       "      <td>1</td>\n",
       "      <td>-1</td>\n",
       "      <td>0</td>\n",
       "      <td>1</td>\n",
       "      <td>1</td>\n",
       "      <td>3</td>\n",
       "      <td>0</td>\n",
       "      <td>1</td>\n",
       "      <td>2</td>\n",
       "      <td>8</td>\n",
       "      <td>3</td>\n",
       "      <td>0</td>\n",
       "      <td>0</td>\n",
       "    </tr>\n",
       "    <tr>\n",
       "      <th>4</th>\n",
       "      <td>33</td>\n",
       "      <td>1</td>\n",
       "      <td>5</td>\n",
       "      <td>198</td>\n",
       "      <td>1</td>\n",
       "      <td>-1</td>\n",
       "      <td>0</td>\n",
       "      <td>11</td>\n",
       "      <td>2</td>\n",
       "      <td>3</td>\n",
       "      <td>0</td>\n",
       "      <td>0</td>\n",
       "      <td>2</td>\n",
       "      <td>8</td>\n",
       "      <td>3</td>\n",
       "      <td>0</td>\n",
       "      <td>0</td>\n",
       "    </tr>\n",
       "    <tr>\n",
       "      <th>5</th>\n",
       "      <td>35</td>\n",
       "      <td>231</td>\n",
       "      <td>5</td>\n",
       "      <td>139</td>\n",
       "      <td>1</td>\n",
       "      <td>-1</td>\n",
       "      <td>0</td>\n",
       "      <td>4</td>\n",
       "      <td>1</td>\n",
       "      <td>2</td>\n",
       "      <td>0</td>\n",
       "      <td>1</td>\n",
       "      <td>2</td>\n",
       "      <td>8</td>\n",
       "      <td>3</td>\n",
       "      <td>0</td>\n",
       "      <td>0</td>\n",
       "    </tr>\n",
       "    <tr>\n",
       "      <th>6</th>\n",
       "      <td>28</td>\n",
       "      <td>447</td>\n",
       "      <td>5</td>\n",
       "      <td>217</td>\n",
       "      <td>1</td>\n",
       "      <td>-1</td>\n",
       "      <td>0</td>\n",
       "      <td>4</td>\n",
       "      <td>2</td>\n",
       "      <td>2</td>\n",
       "      <td>0</td>\n",
       "      <td>1</td>\n",
       "      <td>2</td>\n",
       "      <td>8</td>\n",
       "      <td>3</td>\n",
       "      <td>1</td>\n",
       "      <td>0</td>\n",
       "    </tr>\n",
       "    <tr>\n",
       "      <th>7</th>\n",
       "      <td>42</td>\n",
       "      <td>2</td>\n",
       "      <td>5</td>\n",
       "      <td>380</td>\n",
       "      <td>1</td>\n",
       "      <td>-1</td>\n",
       "      <td>0</td>\n",
       "      <td>2</td>\n",
       "      <td>0</td>\n",
       "      <td>2</td>\n",
       "      <td>1</td>\n",
       "      <td>1</td>\n",
       "      <td>2</td>\n",
       "      <td>8</td>\n",
       "      <td>3</td>\n",
       "      <td>0</td>\n",
       "      <td>0</td>\n",
       "    </tr>\n",
       "    <tr>\n",
       "      <th>8</th>\n",
       "      <td>58</td>\n",
       "      <td>121</td>\n",
       "      <td>5</td>\n",
       "      <td>50</td>\n",
       "      <td>1</td>\n",
       "      <td>-1</td>\n",
       "      <td>0</td>\n",
       "      <td>5</td>\n",
       "      <td>1</td>\n",
       "      <td>0</td>\n",
       "      <td>0</td>\n",
       "      <td>1</td>\n",
       "      <td>2</td>\n",
       "      <td>8</td>\n",
       "      <td>3</td>\n",
       "      <td>0</td>\n",
       "      <td>0</td>\n",
       "    </tr>\n",
       "    <tr>\n",
       "      <th>9</th>\n",
       "      <td>43</td>\n",
       "      <td>593</td>\n",
       "      <td>5</td>\n",
       "      <td>55</td>\n",
       "      <td>1</td>\n",
       "      <td>-1</td>\n",
       "      <td>0</td>\n",
       "      <td>9</td>\n",
       "      <td>2</td>\n",
       "      <td>1</td>\n",
       "      <td>0</td>\n",
       "      <td>1</td>\n",
       "      <td>2</td>\n",
       "      <td>8</td>\n",
       "      <td>3</td>\n",
       "      <td>0</td>\n",
       "      <td>0</td>\n",
       "    </tr>\n",
       "  </tbody>\n",
       "</table>\n",
       "</div>"
      ],
      "text/plain": [
       "   age  balance  day  duration  campaign  pdays  previous  job  marital  \\\n",
       "0   58     2143    5       261         1     -1         0    4        1   \n",
       "1   44       29    5       151         1     -1         0    9        2   \n",
       "2   33        2    5        76         1     -1         0    2        1   \n",
       "3   47     1506    5        92         1     -1         0    1        1   \n",
       "4   33        1    5       198         1     -1         0   11        2   \n",
       "5   35      231    5       139         1     -1         0    4        1   \n",
       "6   28      447    5       217         1     -1         0    4        2   \n",
       "7   42        2    5       380         1     -1         0    2        0   \n",
       "8   58      121    5        50         1     -1         0    5        1   \n",
       "9   43      593    5        55         1     -1         0    9        2   \n",
       "\n",
       "   education  default  housing  contact  month  poutcome  loan  y  \n",
       "0          2        0        1        2      8         3     0  0  \n",
       "1          1        0        1        2      8         3     0  0  \n",
       "2          1        0        1        2      8         3     1  0  \n",
       "3          3        0        1        2      8         3     0  0  \n",
       "4          3        0        0        2      8         3     0  0  \n",
       "5          2        0        1        2      8         3     0  0  \n",
       "6          2        0        1        2      8         3     1  0  \n",
       "7          2        1        1        2      8         3     0  0  \n",
       "8          0        0        1        2      8         3     0  0  \n",
       "9          1        0        1        2      8         3     0  0  "
      ]
     },
     "execution_count": 5,
     "metadata": {},
     "output_type": "execute_result"
    }
   ],
   "source": [
    "# Dropping irrelevant features\n",
    "df.drop([\"Unnamed: 0\"], axis = 1, inplace = True)\n",
    "df.head(10)"
   ]
  },
  {
   "cell_type": "code",
   "execution_count": 6,
   "id": "d50fe5bb",
   "metadata": {},
   "outputs": [],
   "source": [
    "# Split the data into x and y\n",
    "X = df.drop(\"y\", axis = 1)\n",
    "\n",
    "y = df.y.values"
   ]
  },
  {
   "cell_type": "code",
   "execution_count": 7,
   "id": "3319b62b",
   "metadata": {},
   "outputs": [
    {
     "data": {
      "text/html": [
       "<div>\n",
       "<style scoped>\n",
       "    .dataframe tbody tr th:only-of-type {\n",
       "        vertical-align: middle;\n",
       "    }\n",
       "\n",
       "    .dataframe tbody tr th {\n",
       "        vertical-align: top;\n",
       "    }\n",
       "\n",
       "    .dataframe thead th {\n",
       "        text-align: right;\n",
       "    }\n",
       "</style>\n",
       "<table border=\"1\" class=\"dataframe\">\n",
       "  <thead>\n",
       "    <tr style=\"text-align: right;\">\n",
       "      <th></th>\n",
       "      <th>age</th>\n",
       "      <th>balance</th>\n",
       "      <th>day</th>\n",
       "      <th>duration</th>\n",
       "      <th>campaign</th>\n",
       "      <th>pdays</th>\n",
       "      <th>previous</th>\n",
       "      <th>job</th>\n",
       "      <th>marital</th>\n",
       "      <th>education</th>\n",
       "      <th>default</th>\n",
       "      <th>housing</th>\n",
       "      <th>contact</th>\n",
       "      <th>month</th>\n",
       "      <th>poutcome</th>\n",
       "      <th>loan</th>\n",
       "    </tr>\n",
       "  </thead>\n",
       "  <tbody>\n",
       "    <tr>\n",
       "      <th>0</th>\n",
       "      <td>58</td>\n",
       "      <td>2143</td>\n",
       "      <td>5</td>\n",
       "      <td>261</td>\n",
       "      <td>1</td>\n",
       "      <td>-1</td>\n",
       "      <td>0</td>\n",
       "      <td>4</td>\n",
       "      <td>1</td>\n",
       "      <td>2</td>\n",
       "      <td>0</td>\n",
       "      <td>1</td>\n",
       "      <td>2</td>\n",
       "      <td>8</td>\n",
       "      <td>3</td>\n",
       "      <td>0</td>\n",
       "    </tr>\n",
       "    <tr>\n",
       "      <th>1</th>\n",
       "      <td>44</td>\n",
       "      <td>29</td>\n",
       "      <td>5</td>\n",
       "      <td>151</td>\n",
       "      <td>1</td>\n",
       "      <td>-1</td>\n",
       "      <td>0</td>\n",
       "      <td>9</td>\n",
       "      <td>2</td>\n",
       "      <td>1</td>\n",
       "      <td>0</td>\n",
       "      <td>1</td>\n",
       "      <td>2</td>\n",
       "      <td>8</td>\n",
       "      <td>3</td>\n",
       "      <td>0</td>\n",
       "    </tr>\n",
       "    <tr>\n",
       "      <th>2</th>\n",
       "      <td>33</td>\n",
       "      <td>2</td>\n",
       "      <td>5</td>\n",
       "      <td>76</td>\n",
       "      <td>1</td>\n",
       "      <td>-1</td>\n",
       "      <td>0</td>\n",
       "      <td>2</td>\n",
       "      <td>1</td>\n",
       "      <td>1</td>\n",
       "      <td>0</td>\n",
       "      <td>1</td>\n",
       "      <td>2</td>\n",
       "      <td>8</td>\n",
       "      <td>3</td>\n",
       "      <td>1</td>\n",
       "    </tr>\n",
       "    <tr>\n",
       "      <th>3</th>\n",
       "      <td>47</td>\n",
       "      <td>1506</td>\n",
       "      <td>5</td>\n",
       "      <td>92</td>\n",
       "      <td>1</td>\n",
       "      <td>-1</td>\n",
       "      <td>0</td>\n",
       "      <td>1</td>\n",
       "      <td>1</td>\n",
       "      <td>3</td>\n",
       "      <td>0</td>\n",
       "      <td>1</td>\n",
       "      <td>2</td>\n",
       "      <td>8</td>\n",
       "      <td>3</td>\n",
       "      <td>0</td>\n",
       "    </tr>\n",
       "    <tr>\n",
       "      <th>4</th>\n",
       "      <td>33</td>\n",
       "      <td>1</td>\n",
       "      <td>5</td>\n",
       "      <td>198</td>\n",
       "      <td>1</td>\n",
       "      <td>-1</td>\n",
       "      <td>0</td>\n",
       "      <td>11</td>\n",
       "      <td>2</td>\n",
       "      <td>3</td>\n",
       "      <td>0</td>\n",
       "      <td>0</td>\n",
       "      <td>2</td>\n",
       "      <td>8</td>\n",
       "      <td>3</td>\n",
       "      <td>0</td>\n",
       "    </tr>\n",
       "  </tbody>\n",
       "</table>\n",
       "</div>"
      ],
      "text/plain": [
       "   age  balance  day  duration  campaign  pdays  previous  job  marital  \\\n",
       "0   58     2143    5       261         1     -1         0    4        1   \n",
       "1   44       29    5       151         1     -1         0    9        2   \n",
       "2   33        2    5        76         1     -1         0    2        1   \n",
       "3   47     1506    5        92         1     -1         0    1        1   \n",
       "4   33        1    5       198         1     -1         0   11        2   \n",
       "\n",
       "   education  default  housing  contact  month  poutcome  loan  \n",
       "0          2        0        1        2      8         3     0  \n",
       "1          1        0        1        2      8         3     0  \n",
       "2          1        0        1        2      8         3     1  \n",
       "3          3        0        1        2      8         3     0  \n",
       "4          3        0        0        2      8         3     0  "
      ]
     },
     "execution_count": 7,
     "metadata": {},
     "output_type": "execute_result"
    }
   ],
   "source": [
    "# Independent Variables (Features)\n",
    "X.head(5)"
   ]
  },
  {
   "cell_type": "code",
   "execution_count": 8,
   "id": "95e9c8bc",
   "metadata": {},
   "outputs": [
    {
     "data": {
      "text/plain": [
       "array([0, 0, 0, ..., 1, 0, 0], dtype=int64)"
      ]
     },
     "execution_count": 8,
     "metadata": {},
     "output_type": "execute_result"
    }
   ],
   "source": [
    "# Target Variable\n",
    "y"
   ]
  },
  {
   "cell_type": "markdown",
   "id": "f123994b",
   "metadata": {},
   "source": [
    "### 3.2 Training and Test Split"
   ]
  },
  {
   "cell_type": "code",
   "execution_count": 9,
   "id": "2499423a",
   "metadata": {},
   "outputs": [
    {
     "name": "stdout",
     "output_type": "stream",
     "text": [
      "The shape of X_train is: (27972, 16)\n",
      "The shape of X_test is:  (6994, 16)\n",
      "The shape of y_train is: (27972,)\n",
      "The shape of y_test is:  (6994,)\n"
     ]
    }
   ],
   "source": [
    "# Set random seed for consistency and reproducibility\n",
    "np.random.seed(42)\n",
    "\n",
    "# Split into train & test set\n",
    "X_train, X_test, y_train, y_test = train_test_split(X, # independent variables\n",
    "                                                    y, # dependent variables\n",
    "                                                    test_size = 0.2) # percentage of data to use for test set\n",
    "\n",
    "# Sizes of test & training sets\n",
    "print(\"The shape of X_train is:\", X_train.shape)\n",
    "print(\"The shape of X_test is: \", X_test.shape)\n",
    "print(\"The shape of y_train is:\", y_train.shape)\n",
    "print(\"The shape of y_test is: \", y_test.shape)"
   ]
  },
  {
   "cell_type": "markdown",
   "id": "edb28a53",
   "metadata": {},
   "source": [
    "# 4. Modeling"
   ]
  },
  {
   "cell_type": "markdown",
   "id": "ef804aa0",
   "metadata": {},
   "source": [
    "### 4.1 Baseline Modeling"
   ]
  },
  {
   "cell_type": "code",
   "execution_count": 10,
   "id": "9cdb107d",
   "metadata": {},
   "outputs": [],
   "source": [
    "# Put models in a dictionary\n",
    "models = {\"SVC\": SVC(),\n",
    "          \"Logistic Regression\": LogisticRegression(),\n",
    "          \"Random Forest\": RandomForestClassifier(),\n",
    "          \"Decision Tree\": DecisionTreeClassifier(),\n",
    "          \"Gradient Boost Classifier\": GradientBoostingClassifier()}\n",
    "\n",
    "# Create function to fit and score models\n",
    "def fit_and_score(models, X_train, X_test, y_train, y_test):\n",
    "    \"\"\"\n",
    "    Fits and evaluates given machine learning models.\n",
    "    models: a dict of different Scikit-Learn machine learning models\n",
    "    X_train: training data\n",
    "    X_test: testing data\n",
    "    y_train: labels associated with training data\n",
    "    y_test: labels associated with test data\n",
    "    \"\"\"\n",
    "    # Random seed for reproducible results\n",
    "    np.random.seed(42)\n",
    "    # Make a list to keep model scores\n",
    "    model_scores = {}\n",
    "    # Lopp through models\n",
    "    for name, model in models.items():\n",
    "        # Fit the model to the data\n",
    "        model.fit(X_train, y_train)\n",
    "        # Evaluate the model and append its score to model_scores\n",
    "        model_scores[name] = model.score(X_test, y_test)\n",
    "    return model_scores"
   ]
  },
  {
   "cell_type": "code",
   "execution_count": 11,
   "id": "5a47ecd1",
   "metadata": {},
   "outputs": [
    {
     "data": {
      "text/plain": [
       "{'SVC': 0.9173577352016014,\n",
       " 'Logistic Regression': 0.916213897626537,\n",
       " 'Random Forest': 0.9336574206462682,\n",
       " 'Decision Tree': 0.8984844152130398,\n",
       " 'Gradient Boost Classifier': 0.929368029739777}"
      ]
     },
     "execution_count": 11,
     "metadata": {},
     "output_type": "execute_result"
    }
   ],
   "source": [
    "# Obtain scores for models\n",
    "model_scores = fit_and_score(models = models,\n",
    "                             X_train = X_train,\n",
    "                             X_test = X_test,\n",
    "                             y_train = y_train,\n",
    "                             y_test = y_test)\n",
    "model_scores"
   ]
  },
  {
   "cell_type": "code",
   "execution_count": 13,
   "id": "8abf7c57",
   "metadata": {},
   "outputs": [
    {
     "data": {
      "text/html": [
       "<div>\n",
       "<style scoped>\n",
       "    .dataframe tbody tr th:only-of-type {\n",
       "        vertical-align: middle;\n",
       "    }\n",
       "\n",
       "    .dataframe tbody tr th {\n",
       "        vertical-align: top;\n",
       "    }\n",
       "\n",
       "    .dataframe thead th {\n",
       "        text-align: right;\n",
       "    }\n",
       "</style>\n",
       "<table border=\"1\" class=\"dataframe\">\n",
       "  <thead>\n",
       "    <tr style=\"text-align: right;\">\n",
       "      <th></th>\n",
       "      <th>SVC</th>\n",
       "      <th>Logistic Regression</th>\n",
       "      <th>Random Forest</th>\n",
       "      <th>Decision Tree</th>\n",
       "      <th>Gradient Boost Classifier</th>\n",
       "    </tr>\n",
       "  </thead>\n",
       "  <tbody>\n",
       "    <tr>\n",
       "      <th>Accuracy</th>\n",
       "      <td>0.917358</td>\n",
       "      <td>0.916214</td>\n",
       "      <td>0.933657</td>\n",
       "      <td>0.898484</td>\n",
       "      <td>0.929368</td>\n",
       "    </tr>\n",
       "  </tbody>\n",
       "</table>\n",
       "</div>"
      ],
      "text/plain": [
       "               SVC  Logistic Regression  Random Forest  Decision Tree  \\\n",
       "Accuracy  0.917358             0.916214       0.933657       0.898484   \n",
       "\n",
       "          Gradient Boost Classifier  \n",
       "Accuracy                   0.929368  "
      ]
     },
     "execution_count": 13,
     "metadata": {},
     "output_type": "execute_result"
    }
   ],
   "source": [
    "# Creating dataframe of model scores\n",
    "model_compare = pd.DataFrame(model_scores, index = ['Accuracy'])\n",
    "model_compare"
   ]
  },
  {
   "cell_type": "code",
   "execution_count": 15,
   "id": "5d70cc1a",
   "metadata": {},
   "outputs": [
    {
     "data": {
      "image/png": "[encoded data removed]",
      "text/plain": [
       "<Figure size 1500x1000 with 1 Axes>"
      ]
     },
     "metadata": {},
     "output_type": "display_data"
    }
   ],
   "source": [
    "# Plot model results\n",
    "plt.figure(figsize = (15, 10))\n",
    "plt.title(\"Baseline Model Accuracies\")\n",
    "plt.xlabel(\"Models\")\n",
    "plt.ylabel(\"Accuracy\")\n",
    "model_plot = sns.barplot(data = model_compare)\n",
    "model_plot.bar_label(model_plot.containers[0]);"
   ]
  },
  {
   "cell_type": "markdown",
   "id": "2e846765",
   "metadata": {},
   "source": [
    "### 4.2 Cost-Sensitive Learning"
   ]
  },
  {
   "cell_type": "code",
   "execution_count": 17,
   "id": "9993cd6d",
   "metadata": {},
   "outputs": [
    {
     "data": {
      "text/plain": [
       "{'SVC': 0.7044609665427509,\n",
       " 'Logistic Regression': 0.758221332570775,\n",
       " 'Random Forest': 0.9307978267086073,\n",
       " 'Decision Tree': 0.9047755218758936}"
      ]
     },
     "execution_count": 17,
     "metadata": {},
     "output_type": "execute_result"
    }
   ],
   "source": [
    "# Put Cost Sensitve Learning models in a dictionary\n",
    "csl_models = {\"SVC\": SVC(class_weight = 'balanced'),\n",
    "              \"Logistic Regression\": LogisticRegression(class_weight = 'balanced'),\n",
    "              \"Random Forest\": RandomForestClassifier(class_weight = 'balanced'),\n",
    "              \"Decision Tree\": DecisionTreeClassifier(class_weight = 'balanced'),}\n",
    "\n",
    "# Obtain scores for Cost Sensitive Learning models\n",
    "csl_model_scores = fit_and_score(models = cost_sensitive_learning_models,\n",
    "                                          X_train = X_train,\n",
    "                                          X_test = X_test,\n",
    "                                          y_train = y_train,\n",
    "                                          y_test = y_test)\n",
    "\n",
    "csl_model_scores"
   ]
  },
  {
   "cell_type": "markdown",
   "id": "d8bd14a6",
   "metadata": {},
   "source": [
    "Model accuracies have been **reduced** for every model with `Cost-Sensitive Learning` except for the `Decision Tree Classifier` model. Therefore, we will stick with the baseline `Random Forest` model and tune its hyperparameters to improve the model's accuracy even more."
   ]
  },
  {
   "cell_type": "markdown",
   "id": "2616e7d1",
   "metadata": {},
   "source": [
    "# 5. Hyperparameter Tuning and Cross-Validation"
   ]
  },
  {
   "cell_type": "code",
   "execution_count": 18,
   "id": "9fb1792b",
   "metadata": {},
   "outputs": [
    {
     "name": "stdout",
     "output_type": "stream",
     "text": [
      "Fitting 5 folds for each of 72 candidates, totalling 360 fits\n"
     ]
    }
   ],
   "source": [
    "# Different RandomForestClassifier() hyperparameters\n",
    "rf_clf_grid = {'n_estimators': [100, 500, 1000],\n",
    "         'max_depth': [None, 5, 10],\n",
    "         'max_features': ['auto', 'sqrt'],\n",
    "         'min_samples_split': [1, 2],\n",
    "         'min_samples_leaf': [1, 2]}\n",
    "\n",
    "# Setup random hyperparameter search for RandomForestClassifier\n",
    "gs_rf_clf = GridSearchCV(RandomForestClassifier(),\n",
    "                         param_grid = rf_clf_grid,\n",
    "                         cv = 5,\n",
    "                         verbose = True)\n",
    "\n",
    "# Fit grid hyperparameter search model\n",
    "gs_rf_clf.fit(X_train, y_train);"
   ]
  },
  {
   "cell_type": "code",
   "execution_count": 19,
   "id": "655dd7df",
   "metadata": {},
   "outputs": [
    {
     "data": {
      "text/plain": [
       "{'max_depth': None,\n",
       " 'max_features': 'sqrt',\n",
       " 'min_samples_leaf': 1,\n",
       " 'min_samples_split': 2,\n",
       " 'n_estimators': 100}"
      ]
     },
     "execution_count": 19,
     "metadata": {},
     "output_type": "execute_result"
    }
   ],
   "source": [
    "# Check the best parameters\n",
    "gs_rf_clf.best_params_"
   ]
  },
  {
   "cell_type": "code",
   "execution_count": 20,
   "id": "8acdf5ec",
   "metadata": {},
   "outputs": [
    {
     "data": {
      "text/plain": [
       "0.9330855018587361"
      ]
     },
     "execution_count": 20,
     "metadata": {},
     "output_type": "execute_result"
    }
   ],
   "source": [
    "# Evaluate the model\n",
    "gs_rf_clf.score(X_test, y_test)"
   ]
  },
  {
   "cell_type": "markdown",
   "id": "1f53989c",
   "metadata": {},
   "source": [
    "The baseline `Random Forest Classifier` outperforms the other baseline models with an accuracy of **93%**, and the `Random Forest Classifiers` with different sets of hyperparameters. Therefore, we will acquire cross-validated evaluation metrics for this model."
   ]
  },
  {
   "cell_type": "markdown",
   "id": "cdac572d",
   "metadata": {},
   "source": [
    "# 6. Cross-Validated Evaluation Metrics"
   ]
  },
  {
   "cell_type": "markdown",
   "id": "c9dff743",
   "metadata": {},
   "source": [
    "### 6.1 Predictions"
   ]
  },
  {
   "cell_type": "code",
   "execution_count": 21,
   "id": "959410e3",
   "metadata": {},
   "outputs": [],
   "source": [
    "# Make predictions on test data with best model obtained through GridSearchCV\n",
    "y_preds = gs_rf_clf.predict(X_test)"
   ]
  },
  {
   "cell_type": "code",
   "execution_count": 22,
   "id": "85f45f37",
   "metadata": {},
   "outputs": [
    {
     "data": {
      "text/plain": [
       "array([0, 0, 0, ..., 0, 0, 0], dtype=int64)"
      ]
     },
     "execution_count": 22,
     "metadata": {},
     "output_type": "execute_result"
    }
   ],
   "source": [
    "# Check predictions\n",
    "y_preds"
   ]
  },
  {
   "cell_type": "code",
   "execution_count": 23,
   "id": "516e8ec1",
   "metadata": {},
   "outputs": [
    {
     "data": {
      "text/plain": [
       "array([0, 0, 0, ..., 0, 0, 0], dtype=int64)"
      ]
     },
     "execution_count": 23,
     "metadata": {},
     "output_type": "execute_result"
    }
   ],
   "source": [
    "# Check test set\n",
    "y_test"
   ]
  },
  {
   "cell_type": "code",
   "execution_count": 24,
   "id": "6bd743f8",
   "metadata": {},
   "outputs": [
    {
     "name": "stdout",
     "output_type": "stream",
     "text": [
      "[[6322   94]\n",
      " [ 374  204]]\n"
     ]
    }
   ],
   "source": [
    "# Display confusion matrix\n",
    "print(confusion_matrix(y_test, y_preds))"
   ]
  },
  {
   "cell_type": "markdown",
   "id": "603eac03",
   "metadata": {},
   "source": [
    "### 6.2 Confusion Matrix"
   ]
  },
  {
   "cell_type": "code",
   "execution_count": 26,
   "id": "e7137762",
   "metadata": {},
   "outputs": [
    {
     "data": {
      "image/png": "[encoded data removed]",
      "text/plain": [
       "<Figure size 1200x800 with 2 Axes>"
      ]
     },
     "metadata": {},
     "output_type": "display_data"
    }
   ],
   "source": [
    "# Visualizing confusion matrix\n",
    "def plot_conf_mat(y_test, y_preds):\n",
    "  \"\"\" \n",
    "  Plots a confusion matrix using Seaborn's heatmap().\n",
    "  \"\"\"\n",
    "  # Create heatmap\n",
    "  fig, ax = plt.subplots(figsize = (12, 8))\n",
    "  ax = sns.heatmap(confusion_matrix(y_test, y_preds),\n",
    "                   annot = True, # Annotate Boxes\n",
    "                   fmt = 'g')\n",
    "\n",
    "plot_conf_mat(y_test, y_preds)"
   ]
  },
  {
   "cell_type": "markdown",
   "id": "025e5da2",
   "metadata": {},
   "source": [
    "### 6.3 Classification Report"
   ]
  },
  {
   "cell_type": "code",
   "execution_count": 27,
   "id": "160a48b0",
   "metadata": {},
   "outputs": [
    {
     "name": "stdout",
     "output_type": "stream",
     "text": [
      "              precision    recall  f1-score   support\n",
      "\n",
      "           0       0.94      0.99      0.96      6416\n",
      "           1       0.68      0.35      0.47       578\n",
      "\n",
      "    accuracy                           0.93      6994\n",
      "   macro avg       0.81      0.67      0.72      6994\n",
      "weighted avg       0.92      0.93      0.92      6994\n",
      "\n"
     ]
    }
   ],
   "source": [
    "# Show classification report\n",
    "print(classification_report(y_test, y_preds))"
   ]
  },
  {
   "cell_type": "markdown",
   "id": "f583af5b",
   "metadata": {},
   "source": [
    "### 6.4 Cross-Validated Metrics"
   ]
  },
  {
   "cell_type": "code",
   "execution_count": 31,
   "id": "95acf4e5",
   "metadata": {},
   "outputs": [
    {
     "data": {
      "text/plain": [
       "array([0.91635688, 0.8026598 , 0.88302588, 0.67553268, 0.63263263])"
      ]
     },
     "execution_count": 31,
     "metadata": {},
     "output_type": "execute_result"
    }
   ],
   "source": [
    "# Instantiate Baseline Random Forest Classifier\n",
    "clf = RandomForestClassifier()\n",
    "\n",
    "# Cross-validated accuracy score\n",
    "cv_acc = cross_val_score(clf,\n",
    "                         X,\n",
    "                         y,\n",
    "                         cv = 5, # 5-fold cross-validation\n",
    "                         scoring = \"accuracy\") # accuracy as scoring\n",
    "\n",
    "cv_acc"
   ]
  },
  {
   "cell_type": "code",
   "execution_count": 33,
   "id": "caa984d5",
   "metadata": {},
   "outputs": [
    {
     "data": {
      "text/plain": [
       "0.7820415742348829"
      ]
     },
     "execution_count": 33,
     "metadata": {},
     "output_type": "execute_result"
    }
   ],
   "source": [
    "# Average of cross-validated accuracy\n",
    "cv_acc = np.mean(cv_acc)\n",
    "cv_acc"
   ]
  },
  {
   "cell_type": "markdown",
   "id": "fa3a60fe",
   "metadata": {},
   "source": [
    "We achieved a 5 folds cross-validated accuracy of **~78%** with the `Random Forest Classifier`."
   ]
  },
  {
   "cell_type": "code",
   "execution_count": 41,
   "id": "4f498656",
   "metadata": {},
   "outputs": [
    {
     "data": {
      "text/plain": [
       "0.3215845890101884"
      ]
     },
     "execution_count": 41,
     "metadata": {},
     "output_type": "execute_result"
    }
   ],
   "source": [
    "# Average cross-validated precision score\n",
    "cv_precision = np.mean(cross_val_score(clf,\n",
    "                                       X,\n",
    "                                       y,\n",
    "                                       cv = 5, # 5-fold cross-validation\n",
    "                                       scoring = \"precision\")) # precision as scoring\n",
    "cv_precision"
   ]
  },
  {
   "cell_type": "code",
   "execution_count": 42,
   "id": "ab4111f3",
   "metadata": {},
   "outputs": [
    {
     "data": {
      "text/plain": [
       "0.3145167798961863"
      ]
     },
     "execution_count": 42,
     "metadata": {},
     "output_type": "execute_result"
    }
   ],
   "source": [
    "# Average cross-validated recall score\n",
    "cv_recall = np.mean(cross_val_score(clf,\n",
    "                                    X,\n",
    "                                    y,\n",
    "                                    cv = 5, # 5-fold cross-validation\n",
    "                                    scoring = \"recall\")) # recall as scoring\n",
    "cv_recall"
   ]
  },
  {
   "cell_type": "code",
   "execution_count": 43,
   "id": "5066c400",
   "metadata": {},
   "outputs": [
    {
     "data": {
      "text/plain": [
       "0.16187123118593752"
      ]
     },
     "execution_count": 43,
     "metadata": {},
     "output_type": "execute_result"
    }
   ],
   "source": [
    "# Average Cross-validated F1-Score\n",
    "cv_f1 = np.mean(cross_val_score(clf,\n",
    "                                X,\n",
    "                                y,\n",
    "                                cv = 5, # 5-fold cross-validation\n",
    "                                scoring = \"f1\")) # f1 as scoring\n",
    "cv_f1"
   ]
  },
  {
   "cell_type": "code",
   "execution_count": 44,
   "id": "276f7262",
   "metadata": {},
   "outputs": [
    {
     "data": {
      "text/html": [
       "<div>\n",
       "<style scoped>\n",
       "    .dataframe tbody tr th:only-of-type {\n",
       "        vertical-align: middle;\n",
       "    }\n",
       "\n",
       "    .dataframe tbody tr th {\n",
       "        vertical-align: top;\n",
       "    }\n",
       "\n",
       "    .dataframe thead th {\n",
       "        text-align: right;\n",
       "    }\n",
       "</style>\n",
       "<table border=\"1\" class=\"dataframe\">\n",
       "  <thead>\n",
       "    <tr style=\"text-align: right;\">\n",
       "      <th></th>\n",
       "      <th>Accuracy</th>\n",
       "      <th>Precision</th>\n",
       "      <th>Recall</th>\n",
       "      <th>F1</th>\n",
       "    </tr>\n",
       "  </thead>\n",
       "  <tbody>\n",
       "    <tr>\n",
       "      <th>0</th>\n",
       "      <td>0.782042</td>\n",
       "      <td>0.321585</td>\n",
       "      <td>0.314517</td>\n",
       "      <td>0.161871</td>\n",
       "    </tr>\n",
       "  </tbody>\n",
       "</table>\n",
       "</div>"
      ],
      "text/plain": [
       "   Accuracy  Precision    Recall        F1\n",
       "0  0.782042   0.321585  0.314517  0.161871"
      ]
     },
     "execution_count": 44,
     "metadata": {},
     "output_type": "execute_result"
    }
   ],
   "source": [
    "# Visualizng cross-validated metrics\n",
    "cv_metrics = pd.DataFrame({\"Accuracy\": cv_acc,\n",
    "                           \"Precision\": cv_precision,\n",
    "                           \"Recall\": cv_recall,\n",
    "                           \"F1\": cv_f1},\n",
    "                         index = [0])\n",
    "cv_metrics"
   ]
  },
  {
   "cell_type": "code",
   "execution_count": 47,
   "id": "c07853b5",
   "metadata": {},
   "outputs": [
    {
     "data": {
      "image/png": "[encoded data removed]",
      "text/plain": [
       "<Figure size 1200x1000 with 1 Axes>"
      ]
     },
     "metadata": {},
     "output_type": "display_data"
    }
   ],
   "source": [
    "# Plot of Cross-Validated Metrics\n",
    "plt.figure(figsize = (12, 10))\n",
    "cv_metrics_plot = sns.barplot(data = cv_metrics)\n",
    "cv_metrics_plot.set_title(\"Cross-Validated Metrics\", fontsize = 20)\n",
    "cv_metrics_plot.bar_label(cv_metrics_plot.containers[0]);\n",
    "plt.ylim(0.15, 0.8);"
   ]
  },
  {
   "cell_type": "markdown",
   "id": "119fbb27",
   "metadata": {},
   "source": [
    "# 7. Feature Importance"
   ]
  },
  {
   "cell_type": "code",
   "execution_count": 35,
   "id": "82a783c4",
   "metadata": {},
   "outputs": [],
   "source": [
    "# Fit an instance of RandomForestClassifier()\n",
    "clf.fit(X_train, y_train);"
   ]
  },
  {
   "cell_type": "code",
   "execution_count": 36,
   "id": "8fc44509",
   "metadata": {},
   "outputs": [
    {
     "data": {
      "text/plain": [
       "array([0.11611881, 0.11358085, 0.09513834, 0.19208526, 0.03375936,\n",
       "       0.06736335, 0.0292137 , 0.05062954, 0.02369013, 0.02951532,\n",
       "       0.0017648 , 0.03559268, 0.02207359, 0.1087534 , 0.07067775,\n",
       "       0.01004312])"
      ]
     },
     "execution_count": 36,
     "metadata": {},
     "output_type": "execute_result"
    }
   ],
   "source": [
    "# Check coefficients\n",
    "clf.feature_importances_"
   ]
  },
  {
   "cell_type": "code",
   "execution_count": 37,
   "id": "204753cf",
   "metadata": {},
   "outputs": [],
   "source": [
    "# Match features to columns in dataframe\n",
    "feature_importances_s = pd.Series(clf.feature_importances_, index = X.columns)"
   ]
  },
  {
   "cell_type": "code",
   "execution_count": 38,
   "id": "679ffe8b",
   "metadata": {},
   "outputs": [
    {
     "data": {
      "text/html": [
       "<div>\n",
       "<style scoped>\n",
       "    .dataframe tbody tr th:only-of-type {\n",
       "        vertical-align: middle;\n",
       "    }\n",
       "\n",
       "    .dataframe tbody tr th {\n",
       "        vertical-align: top;\n",
       "    }\n",
       "\n",
       "    .dataframe thead th {\n",
       "        text-align: right;\n",
       "    }\n",
       "</style>\n",
       "<table border=\"1\" class=\"dataframe\">\n",
       "  <thead>\n",
       "    <tr style=\"text-align: right;\">\n",
       "      <th></th>\n",
       "      <th>age</th>\n",
       "      <th>balance</th>\n",
       "      <th>day</th>\n",
       "      <th>duration</th>\n",
       "      <th>campaign</th>\n",
       "      <th>pdays</th>\n",
       "      <th>previous</th>\n",
       "      <th>job</th>\n",
       "      <th>marital</th>\n",
       "      <th>education</th>\n",
       "      <th>default</th>\n",
       "      <th>housing</th>\n",
       "      <th>contact</th>\n",
       "      <th>month</th>\n",
       "      <th>poutcome</th>\n",
       "      <th>loan</th>\n",
       "    </tr>\n",
       "  </thead>\n",
       "  <tbody>\n",
       "    <tr>\n",
       "      <th>value</th>\n",
       "      <td>0.116119</td>\n",
       "      <td>0.113581</td>\n",
       "      <td>0.095138</td>\n",
       "      <td>0.192085</td>\n",
       "      <td>0.033759</td>\n",
       "      <td>0.067363</td>\n",
       "      <td>0.029214</td>\n",
       "      <td>0.05063</td>\n",
       "      <td>0.02369</td>\n",
       "      <td>0.029515</td>\n",
       "      <td>0.001765</td>\n",
       "      <td>0.035593</td>\n",
       "      <td>0.022074</td>\n",
       "      <td>0.108753</td>\n",
       "      <td>0.070678</td>\n",
       "      <td>0.010043</td>\n",
       "    </tr>\n",
       "  </tbody>\n",
       "</table>\n",
       "</div>"
      ],
      "text/plain": [
       "            age   balance       day  duration  campaign     pdays  previous  \\\n",
       "value  0.116119  0.113581  0.095138  0.192085  0.033759  0.067363  0.029214   \n",
       "\n",
       "           job  marital  education   default   housing   contact     month  \\\n",
       "value  0.05063  0.02369   0.029515  0.001765  0.035593  0.022074  0.108753   \n",
       "\n",
       "       poutcome      loan  \n",
       "value  0.070678  0.010043  "
      ]
     },
     "execution_count": 38,
     "metadata": {},
     "output_type": "execute_result"
    }
   ],
   "source": [
    "# Converting series to dataframe\n",
    "feature_importance_df = feature_importances_s.to_frame('value').T\n",
    "feature_importance_df"
   ]
  },
  {
   "cell_type": "code",
   "execution_count": 39,
   "id": "5cecfa21",
   "metadata": {},
   "outputs": [
    {
     "data": {
      "image/png": "[encoded data removed]",
      "text/plain": [
       "<Figure size 2200x1000 with 1 Axes>"
      ]
     },
     "metadata": {},
     "output_type": "display_data"
    }
   ],
   "source": [
    "# Visualize feature importance\n",
    "plt.figure(figsize = (22, 10))\n",
    "feature_importance_plot = sns.barplot(data = feature_importance_df)\n",
    "feature_importance_plot.set_title(\"Feature Importance\", fontsize = 20)\n",
    "feature_importance_plot.bar_label(feature_importance_plot.containers[0]);"
   ]
  },
  {
   "cell_type": "markdown",
   "id": "02f606bd",
   "metadata": {},
   "source": [
    "# 8. Saving Models"
   ]
  },
  {
   "cell_type": "markdown",
   "id": "46b433a1",
   "metadata": {},
   "source": [
    "Saving the baseline `Random Forest Classifier` using the **joblib** library."
   ]
  },
  {
   "cell_type": "code",
   "execution_count": 40,
   "id": "0880df60",
   "metadata": {},
   "outputs": [
    {
     "data": {
      "text/plain": [
       "['rf_clf_bank_marketing_classifier.joblib']"
      ]
     },
     "execution_count": 40,
     "metadata": {},
     "output_type": "execute_result"
    }
   ],
   "source": [
    "from joblib import dump\n",
    "\n",
    "# Save model to file\n",
    "dump(clf, filename = \"rf_clf_bank_marketing_classifier.joblib\")"
   ]
  }
 ],
 "metadata": {
  "kernelspec": {
   "display_name": "Python 3 (ipykernel)",
   "language": "python",
   "name": "python3"
  },
  "language_info": {
   "codemirror_mode": {
    "name": "ipython",
    "version": 3
   },
   "file_extension": ".py",
   "mimetype": "text/x-python",
   "name": "python",
   "nbconvert_exporter": "python",
   "pygments_lexer": "ipython3",
   "version": "3.9.13"
  }
 },
 "nbformat": 4,
 "nbformat_minor": 5
}
